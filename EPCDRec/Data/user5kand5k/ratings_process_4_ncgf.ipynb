{
 "cells": [
  {
   "cell_type": "code",
   "execution_count": 1,
   "metadata": {},
   "outputs": [],
   "source": [
    "# 把user的rating数据（csv 格式）3：1划分训练集并生成txt格式，适合ncgf算法"
   ]
  },
  {
   "cell_type": "code",
   "execution_count": 2,
   "metadata": {},
   "outputs": [],
   "source": [
    "import numpy as np\n",
    "import pandas as pd\n",
    "import random"
   ]
  },
  {
   "cell_type": "code",
   "execution_count": 3,
   "metadata": {},
   "outputs": [],
   "source": [
    "ratings = pd.read_csv('ratings5k.csv')"
   ]
  },
  {
   "cell_type": "code",
   "execution_count": 4,
   "metadata": {},
   "outputs": [],
   "source": [
    "user_list = ratings['user_id'].unique()\n",
    "\n",
    "f_train = open(\"train.txt\", 'w')\n",
    "f_test = open(\"test.txt\", 'w')\n",
    "for user in user_list:\n",
    "    items_all = ratings[ratings['user_id']==user]['item_id'].tolist()\n",
    "    test_items = random.sample(items_all, int(len(items_all)*0.25))\n",
    "    train_items = list(set(items_all)^set(test_items))\n",
    "    f_train.write(str(user)+' '+' '.join([str(i) for i in train_items])+'\\n')\n",
    "    f_test.write(str(user)+' '+' '.join([str(i) for i in test_items])+'\\n')\n",
    "\n",
    "f_train.close()\n",
    "f_test.close()"
   ]
  },
  {
   "cell_type": "code",
   "execution_count": null,
   "metadata": {},
   "outputs": [],
   "source": []
  }
 ],
 "metadata": {
  "kernelspec": {
   "display_name": "python35",
   "language": "python",
   "name": "python35"
  },
  "language_info": {
   "codemirror_mode": {
    "name": "ipython",
    "version": 3
   },
   "file_extension": ".py",
   "mimetype": "text/x-python",
   "name": "python",
   "nbconvert_exporter": "python",
   "pygments_lexer": "ipython3",
   "version": "3.5.6"
  },
  "toc": {
   "base_numbering": 1,
   "nav_menu": {},
   "number_sections": true,
   "sideBar": true,
   "skip_h1_title": false,
   "title_cell": "Table of Contents",
   "title_sidebar": "Contents",
   "toc_cell": false,
   "toc_position": {},
   "toc_section_display": true,
   "toc_window_display": false
  }
 },
 "nbformat": 4,
 "nbformat_minor": 2
}
