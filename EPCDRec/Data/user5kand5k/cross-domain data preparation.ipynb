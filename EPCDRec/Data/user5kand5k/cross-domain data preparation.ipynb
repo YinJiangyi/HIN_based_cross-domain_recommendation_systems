{
 "cells": [
  {
   "cell_type": "code",
   "execution_count": 1,
   "metadata": {},
   "outputs": [],
   "source": [
    "import pandas as pd\n",
    "import numpy as np"
   ]
  },
  {
   "cell_type": "code",
   "execution_count": 2,
   "metadata": {},
   "outputs": [],
   "source": [
    "I_tag = pd.read_csv('I_tag.csv')\n",
    "U_tag = pd.read_csv('U_tag.csv')\n",
    "\n",
    "tag_mapping = {i:j for i,j in set(zip(I_tag.tag, I_tag.tag_id)) | set(zip(U_tag.tag, U_tag.tag_id))}"
   ]
  },
  {
   "cell_type": "code",
   "execution_count": 3,
   "metadata": {},
   "outputs": [],
   "source": [
    "Ib_tag = pd.read_csv('Ib_tag_original.csv')\n",
    "Ub_tag = pd.read_csv('Ub_tag_original.csv')\n",
    "\n",
    "Ib_tag = Ib_tag[Ib_tag.tag.isin(tag_mapping.keys())]\n",
    "Ub_tag = Ub_tag[Ub_tag.tag.isin(tag_mapping.keys())]"
   ]
  },
  {
   "cell_type": "code",
   "execution_count": 4,
   "metadata": {},
   "outputs": [],
   "source": [
    "Ib_tag['tag_id'] = [tag_mapping[i] for i in Ib_tag['tag']]\n",
    "Ub_tag['tag_id'] = [tag_mapping[i] for i in Ub_tag['tag']]"
   ]
  },
  {
   "cell_type": "code",
   "execution_count": 5,
   "metadata": {},
   "outputs": [],
   "source": [
    "# 对item和user重新编码\n",
    "# !!!!!!这个id是一次性的\n",
    "temp_mapping = {j:i for i,j in enumerate(Ib_tag.item_id.unique())}\n",
    "Ib_tag['item_id'] = [temp_mapping[i] for i in Ib_tag['item_id']]\n",
    "\n",
    "temp_mapping = {j:i for i,j in enumerate(Ub_tag.user_id.unique())}\n",
    "Ub_tag['user_id'] = [temp_mapping[i] for i in Ub_tag['user_id']]"
   ]
  },
  {
   "cell_type": "code",
   "execution_count": 6,
   "metadata": {},
   "outputs": [],
   "source": [
    "Ib_tag.to_csv('Ib_tag.csv', index=None)\n",
    "Ub_tag.to_csv('Ub_tag.csv', index=None)"
   ]
  },
  {
   "cell_type": "code",
   "execution_count": 7,
   "metadata": {},
   "outputs": [
    {
     "data": {
      "text/plain": [
       "(7517, 7517)"
      ]
     },
     "execution_count": 7,
     "metadata": {},
     "output_type": "execute_result"
    }
   ],
   "source": [
    "Ub_tag.tag_id.max(), Ib_tag.tag_id.max()"
   ]
  },
  {
   "cell_type": "code",
   "execution_count": 8,
   "metadata": {
    "scrolled": true
   },
   "outputs": [],
   "source": [
    "user_list = Ub_tag['user_id'].unique()\n",
    "\n",
    "f = open(\"Ub_tag.txt\", 'w')\n",
    "for user in user_list:\n",
    "    tags_all = Ub_tag[Ub_tag['user_id']==user]['tag_id'].tolist()\n",
    "    f.write(str(user)+' '+' '.join([str(i) for i in tags_all])+'\\n')\n",
    "\n",
    "f.close()"
   ]
  },
  {
   "cell_type": "code",
   "execution_count": 9,
   "metadata": {},
   "outputs": [],
   "source": [
    "item_list = Ib_tag['item_id'].unique()\n",
    "\n",
    "f = open(\"Ib_tag.txt\", 'w')\n",
    "for item in item_list:\n",
    "    tags_all = Ib_tag[Ib_tag['item_id']==item]['tag_id'].tolist()\n",
    "    f.write(str(item)+' '+' '.join([str(i) for i in tags_all])+'\\n')\n",
    "\n",
    "f.close()"
   ]
  },
  {
   "cell_type": "code",
   "execution_count": 10,
   "metadata": {},
   "outputs": [],
   "source": [
    "user_list = U_tag['user_id'].unique()\n",
    "\n",
    "f = open(\"U_tag.txt\", 'w')\n",
    "for user in user_list:\n",
    "    tags_all = U_tag[U_tag['user_id']==user]['tag_id'].tolist()\n",
    "    f.write(str(user)+' '+' '.join([str(i) for i in tags_all])+'\\n')\n",
    "\n",
    "f.close()"
   ]
  },
  {
   "cell_type": "code",
   "execution_count": 11,
   "metadata": {},
   "outputs": [],
   "source": [
    "item_list = I_tag['item_id'].unique()\n",
    "\n",
    "f = open(\"I_tag.txt\", 'w')\n",
    "for item in item_list:\n",
    "    tags_all = I_tag[I_tag['item_id']==item]['tag_id'].tolist()\n",
    "    f.write(str(item)+' '+' '.join([str(i) for i in tags_all])+'\\n')\n",
    "\n",
    "f.close()"
   ]
  },
  {
   "cell_type": "code",
   "execution_count": null,
   "metadata": {},
   "outputs": [],
   "source": []
  }
 ],
 "metadata": {
  "kernelspec": {
   "display_name": "python35",
   "language": "python",
   "name": "python35"
  },
  "language_info": {
   "codemirror_mode": {
    "name": "ipython",
    "version": 3
   },
   "file_extension": ".py",
   "mimetype": "text/x-python",
   "name": "python",
   "nbconvert_exporter": "python",
   "pygments_lexer": "ipython3",
   "version": "3.5.6"
  },
  "toc": {
   "base_numbering": 1,
   "nav_menu": {},
   "number_sections": true,
   "sideBar": true,
   "skip_h1_title": false,
   "title_cell": "Table of Contents",
   "title_sidebar": "Contents",
   "toc_cell": false,
   "toc_position": {},
   "toc_section_display": true,
   "toc_window_display": false
  }
 },
 "nbformat": 4,
 "nbformat_minor": 2
}
