{
 "cells": [
  {
   "cell_type": "markdown",
   "metadata": {},
   "source": [
    "# 过滤tag"
   ]
  },
  {
   "cell_type": "code",
   "execution_count": 1,
   "metadata": {},
   "outputs": [],
   "source": [
    "import pandas as pd\n",
    "import numpy as np\n",
    "import re"
   ]
  },
  {
   "cell_type": "code",
   "execution_count": 2,
   "metadata": {},
   "outputs": [],
   "source": [
    "tags_original = pd.read_csv('tags_original.csv')"
   ]
  },
  {
   "cell_type": "code",
   "execution_count": 5,
   "metadata": {},
   "outputs": [],
   "source": [
    "def remove(text):\n",
    "    return re.sub(r'([^\\s\\w]|_)+', '',text).lower().strip('')"
   ]
  },
  {
   "cell_type": "code",
   "execution_count": 14,
   "metadata": {},
   "outputs": [
    {
     "name": "stdout",
     "output_type": "stream",
     "text": [
      "number of remained tags: 7978\n"
     ]
    }
   ],
   "source": [
    "tags_original['tag'] = [remove(str(i)) for i in tags_original['tag']] #保留tag中的英文字母及空格\n",
    "\n",
    "tags_all = set(tags_original['tag'])\n",
    "tags_all^={'nan'}\n",
    "tags_all^={i for i in tags_all if len(i)<=1}  # 删除长度不超过1的tag\n",
    "\n",
    "tmp = tags_original.groupby('tag').count().reset_index() #统计tag频次，保留出现超过5次的\n",
    "tags_all = tags_all&set(tmp[tmp['userId']>=5]['tag'].tolist())\n",
    "\n",
    "print('number of remained tags:', len(tags_all))"
   ]
  },
  {
   "cell_type": "code",
   "execution_count": 16,
   "metadata": {},
   "outputs": [],
   "source": [
    "filtered_original_tags = tags_original[tags_original.tag.isin(tags_all)]\n",
    "\n",
    "# filtered_original_tags.to_csv('processed_tag.csv', index=None)"
   ]
  },
  {
   "cell_type": "code",
   "execution_count": null,
   "metadata": {},
   "outputs": [],
   "source": []
  }
 ],
 "metadata": {
  "kernelspec": {
   "display_name": "python35",
   "language": "python",
   "name": "python35"
  },
  "language_info": {
   "codemirror_mode": {
    "name": "ipython",
    "version": 3
   },
   "file_extension": ".py",
   "mimetype": "text/x-python",
   "name": "python",
   "nbconvert_exporter": "python",
   "pygments_lexer": "ipython3",
   "version": "3.5.6"
  },
  "toc": {
   "base_numbering": 1,
   "nav_menu": {},
   "number_sections": true,
   "sideBar": true,
   "skip_h1_title": false,
   "title_cell": "Table of Contents",
   "title_sidebar": "Contents",
   "toc_cell": false,
   "toc_position": {},
   "toc_section_display": true,
   "toc_window_display": false
  }
 },
 "nbformat": 4,
 "nbformat_minor": 2
}
